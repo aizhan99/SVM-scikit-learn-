{
  "cells": [
    {
      "cell_type": "code",
      "execution_count": 135,
      "metadata": {
        "id": "ep4_tGqEavrS"
      },
      "outputs": [],
      "source": [
        "import numpy as np\n",
        "import pandas as pd\n",
        "from sklearn.model_selection import train_test_split\n",
        "data=pd.read_csv(\"/content/kidney_disease.csv\")  #this csv filed was downloaded from kaggle, as the .arff file (in original link) doesn't load properly because of the typos."
      ]
    },
    {
      "cell_type": "markdown",
      "metadata": {
        "id": "rwxuFOtS8Pki"
      },
      "source": [
        "In the dataset, there were a lot of typos, so .arff doesn't load, however .csv load despite of typos. Here is code for correcting most of typos in the dataset"
      ]
    },
    {
      "cell_type": "code",
      "execution_count": 136,
      "metadata": {
        "id": "KKWDjE1i7u_n"
      },
      "outputs": [],
      "source": [
        "for i in range(data.shape[0]):\n",
        "    if data.iloc[i,25]=='ckd\\t':\n",
        "        data.iloc[i,25]='ckd'\n",
        "    if data.iloc[i,20] in [' yes','\\tyes']:\n",
        "        data.iloc[i,20]='yes'\n",
        "    if data.iloc[i,20]=='\\tno':\n",
        "        data.iloc[i,20]='no'\n",
        "    if data.iloc[i,21]=='\\tno':\n",
        "        data.iloc[i,21]='no'\n",
        "    if data.iloc[i,16]=='\\t?':\n",
        "        data.iloc[i,16]=np.nan\n",
        "    if data.iloc[i,16]=='\\t43':\n",
        "        data.iloc[i,16]='43'\n",
        "    if data.iloc[i,17]=='\\t?':\n",
        "        data.iloc[i,17]=np.nan\n",
        "    if data.iloc[i,17]=='\\t6200':\n",
        "        data.iloc[i,17]= '6200'\n",
        "    if data.iloc[i,17]=='\\t8400':\n",
        "        data.iloc[i,17]= '6200'\n",
        "    if data.iloc[i,18]=='\\t?':\n",
        "        data.iloc[i,18]=np.nan\n",
        "    if data.iloc[i,25]=='ckd':\n",
        "        data.iloc[i,25]='yes'\n",
        "    if data.iloc[i,25]=='notckd':\n",
        "        data.iloc[i,25]='no'"
      ]
    },
    {
      "cell_type": "code",
      "execution_count": 137,
      "metadata": {
        "colab": {
          "base_uri": "https://localhost:8080/"
        },
        "id": "RV1dNbxcb7RM",
        "outputId": "4c74ef6a-7bea-4ebb-d71c-1d9393587ec4"
      },
      "outputs": [
        {
          "data": {
            "text/plain": [
              "1    250\n",
              "0    150\n",
              "Name: classification, dtype: int64"
            ]
          },
          "execution_count": 137,
          "metadata": {},
          "output_type": "execute_result"
        }
      ],
      "source": [
        "from sklearn.preprocessing import LabelEncoder\n",
        "for i in data.columns:\n",
        "    if data[i].dtype=='object':\n",
        "        data[i]=LabelEncoder().fit_transform(data[i])\n",
        "\n",
        "\n",
        "y=data['classification']\n",
        "X=data.drop(['classification'],axis=1)\n",
        "\n",
        "class_counts = y.value_counts()\n",
        "class_counts"
      ]
    },
    {
      "cell_type": "markdown",
      "metadata": {
        "id": "Qqg4wYdF8jCz"
      },
      "source": [
        "Here, we see that our classes are a little bit unbalanced, 62.5% to 37.5%"
      ]
    },
    {
      "cell_type": "markdown",
      "metadata": {
        "id": "0c-3_8N882Uo"
      },
      "source": [
        "The below code changes the missing values to the median. This is needed, as the SVM classifier in sklearn doesn't hanlde those missing values, and will reslut in error\n",
        "\n",
        "---\n",
        "\n"
      ]
    },
    {
      "cell_type": "code",
      "execution_count": 138,
      "metadata": {
        "id": "ReSO6h42yzfz"
      },
      "outputs": [],
      "source": [
        "from sklearn.impute import SimpleImputer\n",
        "imputer = SimpleImputer(strategy='median')  # You can choose a different strategy based on your needs\n",
        "X = imputer.fit_transform(X)"
      ]
    },
    {
      "cell_type": "markdown",
      "metadata": {
        "id": "MaidghO5dcI1"
      },
      "source": [
        "Here I used sklearn StandardScaler function. That standardizes all features using the z = (x - u) / s formula. u-mean s-standard deviation"
      ]
    },
    {
      "cell_type": "code",
      "execution_count": 139,
      "metadata": {
        "id": "IjuvyTG1eVdp"
      },
      "outputs": [],
      "source": [
        "from sklearn.preprocessing import StandardScaler\n",
        "X=StandardScaler().fit_transform(X)"
      ]
    },
    {
      "cell_type": "markdown",
      "metadata": {
        "id": "Dcg2FUtpdZSl"
      },
      "source": [
        "Here I divided the dataset to train validation test sets with ratios 80% 10% 10% respectively. As we have small amount of data samples, the training data should be as large as possible, so I gaved minimal 10% splits to validation and test data."
      ]
    },
    {
      "cell_type": "code",
      "execution_count": 140,
      "metadata": {
        "colab": {
          "base_uri": "https://localhost:8080/"
        },
        "id": "aG0rY1HncXgf",
        "outputId": "4771d797-b979-4a63-b086-276f90443cf1"
      },
      "outputs": [
        {
          "name": "stdout",
          "output_type": "stream",
          "text": [
            "Train set size: 320\n",
            "Validation set size: 40\n",
            "Test set size: 40\n"
          ]
        }
      ],
      "source": [
        "X_train, X_temp, y_train, y_temp = train_test_split(X, y, test_size=0.2, random_state=42, stratify=y)\n",
        "X_val, X_test, y_val, y_test = train_test_split(X_temp, y_temp, test_size=0.5, random_state=42, stratify=y_temp)\n",
        "\n",
        "print(f\"Train set size: {len(X_train)}\")\n",
        "print(f\"Validation set size: {len(X_val)}\")\n",
        "print(f\"Test set size: {len(X_test)}\")"
      ]
    },
    {
      "cell_type": "markdown",
      "metadata": {
        "id": "IHG2WSmBwo9P"
      },
      "source": [
        "Sklearn's precision_score and recall_score functions uses the same formula as in the pdf file, so I used them"
      ]
    },
    {
      "cell_type": "markdown",
      "metadata": {
        "id": "HjXNuZNCxBVF"
      },
      "source": [
        "#### I used 4 candidate values for C, and in the following code we train model I with those different C values. Here also we calculate the error rate, precision and recall for training data"
      ]
    },
    {
      "cell_type": "code",
      "execution_count": 141,
      "metadata": {
        "colab": {
          "base_uri": "https://localhost:8080/"
        },
        "id": "L0GqFpoXteiJ",
        "outputId": "ea3ce48b-7d62-48d3-9a1c-a3c513bd9a4c"
      },
      "outputs": [
        {
          "name": "stdout",
          "output_type": "stream",
          "text": [
            "model I\n",
            "For C = 0.1:\n",
            "  (a) Error rate: 0.00%\n",
            "  (b) Precision: 1.00\n",
            "  (b)  Recall: 1.00\n",
            "  (c) Number of Support Vectors for Class 0: 17\n",
            "  (c) Number of Support Vectors for Class 1: 17\n",
            "For C = 1:\n",
            "  (a) Error rate: 0.00%\n",
            "  (b) Precision: 1.00\n",
            "  (b)  Recall: 1.00\n",
            "  (c) Number of Support Vectors for Class 0: 6\n",
            "  (c) Number of Support Vectors for Class 1: 14\n",
            "For C = 10:\n",
            "  (a) Error rate: 0.00%\n",
            "  (b) Precision: 1.00\n",
            "  (b)  Recall: 1.00\n",
            "  (c) Number of Support Vectors for Class 0: 6\n",
            "  (c) Number of Support Vectors for Class 1: 14\n",
            "For C = 100:\n",
            "  (a) Error rate: 0.00%\n",
            "  (b) Precision: 1.00\n",
            "  (b)  Recall: 1.00\n",
            "  (c) Number of Support Vectors for Class 0: 6\n",
            "  (c) Number of Support Vectors for Class 1: 14\n"
          ]
        }
      ],
      "source": [
        "from sklearn import svm\n",
        "from sklearn.metrics import accuracy_score, precision_score, recall_score\n",
        "print(\"model I\")\n",
        "C_values = [0.1, 1, 10, 100]\n",
        "average_option = 'micro'  # this is needed, as we have binary classification\n",
        "# Train and evaluate SVM models for different C values\n",
        "for C_value in C_values:\n",
        "    # Create and train the SVM model\n",
        "    model = svm.SVC(kernel='linear', C=C_value)  # here the SVC is for Classification\n",
        "    model.fit(X_train, y_train)\n",
        "\n",
        "    # Make predictions on the training set\n",
        "    y_pred_train = model.predict(X_train)\n",
        "\n",
        "    # Calculate accuracy on the training set\n",
        "    error_rate = 1 - accuracy_score(y_train, y_pred_train)\n",
        "\n",
        "    # (b) Precision and recall\n",
        "    precision = precision_score(y_train, y_pred_train,average=average_option)\n",
        "    recall = recall_score(y_train, y_pred_train,average=average_option)\n",
        "\n",
        "    n_support_vectors = model.n_support_\n",
        "\n",
        "    print(f\"For C = {C_value}:\")\n",
        "\n",
        "    print(f\"  (a) Error rate: {error_rate:.2%}\")\n",
        "    print(f\"  (b) Precision: {precision:.2f}\")\n",
        "    print(f\"  (b)  Recall: {recall:.2f}\")\n",
        "    print(f\"  (c) Number of Support Vectors for Class 0: {n_support_vectors[0]}\")\n",
        "    print(f\"  (c) Number of Support Vectors for Class 1: {n_support_vectors[1]}\")"
      ]
    },
    {
      "cell_type": "markdown",
      "metadata": {
        "id": "4_St6FyO9Sys"
      },
      "source": [
        "For every C value model I got error rate of 0% for training data. Let's see the results for validation data"
      ]
    },
    {
      "cell_type": "code",
      "execution_count": 142,
      "metadata": {
        "colab": {
          "base_uri": "https://localhost:8080/"
        },
        "id": "XHx8rHQa-PC8",
        "outputId": "f8871e12-83b0-4916-c500-e88a4ce3c7c6"
      },
      "outputs": [
        {
          "name": "stdout",
          "output_type": "stream",
          "text": [
            "   C_value  Error Rate  Precision  Recall   F1\n",
            "0      0.1         0.0        1.0     1.0  1.0\n",
            "1      1.0         0.0        1.0     1.0  1.0\n",
            "2     10.0         0.0        1.0     1.0  1.0\n",
            "3    100.0         0.0        1.0     1.0  1.0\n"
          ]
        }
      ],
      "source": [
        "C_values = [0.1, 1, 10, 100]\n",
        "results = []\n",
        "\n",
        "for C_value in C_values:\n",
        "    # Create and train the SVM model\n",
        "    model = svm.SVC(kernel='linear', C=C_value)\n",
        "    model.fit(X_train, y_train)\n",
        "\n",
        "    y_pred_val = model.predict(X_val)\n",
        "\n",
        "    error_rate = 1 - accuracy_score(y_val, y_pred_val)\n",
        "\n",
        "    precision = precision_score(y_val, y_pred_val,average=average_option)\n",
        "    recall = recall_score(y_val, y_pred_val,average=average_option)\n",
        "\n",
        "    beta = 1  # You can adjust the value of beta\n",
        "    f_beta = (1 + beta**2) * (precision * recall) / (beta**2 * (precision + recall))\n",
        "\n",
        "    results.append({\n",
        "        'C_value': C_value,\n",
        "        'Error Rate': error_rate,\n",
        "        'Precision': precision,\n",
        "        'Recall': recall,\n",
        "        'F1': f_beta })\n",
        "\n",
        "results_df = pd.DataFrame(results)\n",
        "print(results_df)"
      ]
    },
    {
      "cell_type": "markdown",
      "metadata": {
        "id": "fucBe7ajAKRZ"
      },
      "source": [
        "So, every C_value got perfect results on validation data set, that's impressive."
      ]
    },
    {
      "cell_type": "markdown",
      "metadata": {
        "id": "WCTK3tekAZOw"
      },
      "source": [
        "### Let's check using model II (polynomial kernel)\n"
      ]
    },
    {
      "cell_type": "code",
      "execution_count": 143,
      "metadata": {
        "colab": {
          "base_uri": "https://localhost:8080/"
        },
        "id": "-XRMkNhLAYnt",
        "outputId": "39a875f3-d49e-46e2-af9c-78ad82fc62f0"
      },
      "outputs": [
        {
          "name": "stdout",
          "output_type": "stream",
          "text": [
            "model II\n",
            "For C = 0.1:\n",
            "  (a) Error rate: 35.31%\n",
            "  (b) Precision: 0.65\n",
            "  (b)  Recall: 0.65\n",
            "  (c) Number of Support Vectors for Class 0: 119\n",
            "  (c) Number of Support Vectors for Class 1: 131\n",
            "For C = 1:\n",
            "  (a) Error rate: 0.31%\n",
            "  (b) Precision: 1.00\n",
            "  (b)  Recall: 1.00\n",
            "  (c) Number of Support Vectors for Class 0: 76\n",
            "  (c) Number of Support Vectors for Class 1: 107\n",
            "For C = 10:\n",
            "  (a) Error rate: 0.00%\n",
            "  (b) Precision: 1.00\n",
            "  (b)  Recall: 1.00\n",
            "  (c) Number of Support Vectors for Class 0: 27\n",
            "  (c) Number of Support Vectors for Class 1: 77\n",
            "For C = 100:\n",
            "  (a) Error rate: 0.00%\n",
            "  (b) Precision: 1.00\n",
            "  (b)  Recall: 1.00\n",
            "  (c) Number of Support Vectors for Class 0: 20\n",
            "  (c) Number of Support Vectors for Class 1: 75\n"
          ]
        }
      ],
      "source": [
        "print(\"model II\")\n",
        "C_values = [0.1, 1, 10, 100]\n",
        "# Train and evaluate SVM models for different C values\n",
        "for C_value in C_values:\n",
        "    # Create and train the SVM model\n",
        "    model = svm.SVC(kernel='poly', C=C_value)  # kernel=\"poly\" is the model II\n",
        "    model.fit(X_train, y_train)\n",
        "\n",
        "    # Make predictions on the training set\n",
        "    y_pred_train = model.predict(X_train)\n",
        "\n",
        "    # Calculate accuracy on the training set\n",
        "    error_rate = 1 - accuracy_score(y_train, y_pred_train)\n",
        "\n",
        "    # (b) Precision and recall\n",
        "    precision = precision_score(y_train, y_pred_train,average=average_option)\n",
        "    recall = recall_score(y_train, y_pred_train,average=average_option)\n",
        "\n",
        "    n_support_vectors = model.n_support_\n",
        "\n",
        "    print(f\"For C = {C_value}:\")\n",
        "\n",
        "    print(f\"  (a) Error rate: {error_rate:.2%}\")\n",
        "    print(f\"  (b) Precision: {precision:.2f}\")\n",
        "    print(f\"  (b)  Recall: {recall:.2f}\")\n",
        "    print(f\"  (c) Number of Support Vectors for Class 0: {n_support_vectors[0]}\")\n",
        "    print(f\"  (c) Number of Support Vectors for Class 1: {n_support_vectors[1]}\")"
      ]
    },
    {
      "cell_type": "markdown",
      "metadata": {
        "id": "ytEK1NyAA8DH"
      },
      "source": [
        "So the model II with C=0.1 got error rate of 35.31%, however with higher C values got almost perfect results on Training data, let's check results on validation data"
      ]
    },
    {
      "cell_type": "code",
      "execution_count": 144,
      "metadata": {
        "colab": {
          "base_uri": "https://localhost:8080/"
        },
        "id": "N6oCHeLJBKVR",
        "outputId": "723226f2-855b-4ebc-866b-ff56ee6dfca2"
      },
      "outputs": [
        {
          "name": "stdout",
          "output_type": "stream",
          "text": [
            "model II\n",
            "   C_value  Error Rate  Precision  Recall     F1\n",
            "0      0.1       0.375      0.625   0.625  0.625\n",
            "1      1.0       0.000      1.000   1.000  1.000\n",
            "2     10.0       0.000      1.000   1.000  1.000\n",
            "3    100.0       0.000      1.000   1.000  1.000\n"
          ]
        }
      ],
      "source": [
        "C_values = [0.1, 1, 10, 100]\n",
        "results = []\n",
        "\n",
        "for C_value in C_values:\n",
        "    # Create and train the SVM model\n",
        "    model = svm.SVC(kernel='poly', C=C_value)\n",
        "    model.fit(X_train, y_train)\n",
        "\n",
        "    y_pred_val = model.predict(X_val)\n",
        "\n",
        "    error_rate = 1 - accuracy_score(y_val, y_pred_val)\n",
        "\n",
        "    precision = precision_score(y_val, y_pred_val,average=average_option)\n",
        "    recall = recall_score(y_val, y_pred_val,average=average_option)\n",
        "\n",
        "    beta = 1  # You can adjust the value of beta\n",
        "    f_beta = (1 + beta**2) * (precision * recall) / (beta**2 * (precision + recall))\n",
        "\n",
        "    results.append({\n",
        "        'C_value': C_value,\n",
        "        'Error Rate': error_rate,\n",
        "        'Precision': precision,\n",
        "        'Recall': recall,\n",
        "        'F1': f_beta })\n",
        "print(\"model II\")\n",
        "results_df = pd.DataFrame(results)\n",
        "print(results_df)"
      ]
    },
    {
      "cell_type": "markdown",
      "metadata": {
        "id": "eCnZ4cD4BViD"
      },
      "source": [
        "So, model II got perfect results on validation data for C values 1,10,100. However for C=0.1 got error rate of 37.5%"
      ]
    },
    {
      "cell_type": "markdown",
      "metadata": {
        "id": "CduuHbvnBuWO"
      },
      "source": [
        "#### Now we train model III (radial basis function kernel)\n"
      ]
    },
    {
      "cell_type": "code",
      "execution_count": 145,
      "metadata": {
        "colab": {
          "base_uri": "https://localhost:8080/"
        },
        "id": "0shmZlUYB3x7",
        "outputId": "96549232-191d-4ccc-bc57-8d2180bfcc09"
      },
      "outputs": [
        {
          "name": "stdout",
          "output_type": "stream",
          "text": [
            "model III\n",
            "For C = 0.1:\n",
            "  (a) Error rate: 2.19%\n",
            "  (b) Precision: 0.98\n",
            "  (b)  Recall: 0.98\n",
            "  (c) Number of Support Vectors for Class 0: 65\n",
            "  (c) Number of Support Vectors for Class 1: 88\n",
            "For C = 1:\n",
            "  (a) Error rate: 0.00%\n",
            "  (b) Precision: 1.00\n",
            "  (b)  Recall: 1.00\n",
            "  (c) Number of Support Vectors for Class 0: 26\n",
            "  (c) Number of Support Vectors for Class 1: 48\n",
            "For C = 10:\n",
            "  (a) Error rate: 0.00%\n",
            "  (b) Precision: 1.00\n",
            "  (b)  Recall: 1.00\n",
            "  (c) Number of Support Vectors for Class 0: 15\n",
            "  (c) Number of Support Vectors for Class 1: 36\n",
            "For C = 100:\n",
            "  (a) Error rate: 0.00%\n",
            "  (b) Precision: 1.00\n",
            "  (b)  Recall: 1.00\n",
            "  (c) Number of Support Vectors for Class 0: 15\n",
            "  (c) Number of Support Vectors for Class 1: 36\n"
          ]
        }
      ],
      "source": [
        "print(\"model III\")\n",
        "C_values = [0.1, 1, 10, 100]\n",
        "average_option = 'micro'\n",
        "# Train and evaluate SVM models for different C values\n",
        "for C_value in C_values:\n",
        "    # Create and train the SVM model\n",
        "    model = svm.SVC(kernel='rbf', C=C_value)  # kernel=\"rbf\" is the model III\n",
        "    model.fit(X_train, y_train)\n",
        "\n",
        "    # Make predictions on the training set\n",
        "    y_pred_train = model.predict(X_train)\n",
        "\n",
        "    # Calculate accuracy on the training set\n",
        "    error_rate = 1 - accuracy_score(y_train, y_pred_train)\n",
        "\n",
        "    # (b) Precision and recall\n",
        "    precision = precision_score(y_train, y_pred_train,average=average_option)\n",
        "    recall = recall_score(y_train, y_pred_train,average=average_option)\n",
        "\n",
        "    n_support_vectors = model.n_support_\n",
        "\n",
        "    print(f\"For C = {C_value}:\")\n",
        "\n",
        "    print(f\"  (a) Error rate: {error_rate:.2%}\")\n",
        "    print(f\"  (b) Precision: {precision:.2f}\")\n",
        "    print(f\"  (b)  Recall: {recall:.2f}\")\n",
        "    print(f\"  (c) Number of Support Vectors for Class 0: {n_support_vectors[0]}\")\n",
        "    print(f\"  (c) Number of Support Vectors for Class 1: {n_support_vectors[1]}\")"
      ]
    },
    {
      "cell_type": "markdown",
      "metadata": {
        "id": "xX83HoC0CCbb"
      },
      "source": [
        "model III got a very littile error rate for C = 0.1 for other C got perfect results on training data. Let's check the validiton data"
      ]
    },
    {
      "cell_type": "code",
      "execution_count": 146,
      "metadata": {
        "colab": {
          "base_uri": "https://localhost:8080/"
        },
        "id": "kwwiSAljCK2X",
        "outputId": "fedf5b80-92f1-481c-f7ac-8c1ae59b4b8a"
      },
      "outputs": [
        {
          "name": "stdout",
          "output_type": "stream",
          "text": [
            "model III\n",
            "   C_value  Error Rate  Precision  Recall   F1\n",
            "0      0.1         0.0        1.0     1.0  1.0\n",
            "1      1.0         0.0        1.0     1.0  1.0\n",
            "2     10.0         0.0        1.0     1.0  1.0\n",
            "3    100.0         0.0        1.0     1.0  1.0\n"
          ]
        }
      ],
      "source": [
        "C_values = [0.1, 1, 10, 100]\n",
        "results = []\n",
        "\n",
        "for C_value in C_values:\n",
        "    # Create and train the SVM model\n",
        "    model = svm.SVC(kernel='rbf', C=C_value)\n",
        "    model.fit(X_train, y_train)\n",
        "\n",
        "    y_pred_val = model.predict(X_val)\n",
        "\n",
        "    error_rate = 1 - accuracy_score(y_val, y_pred_val)\n",
        "\n",
        "    precision = precision_score(y_val, y_pred_val,average=average_option)\n",
        "    recall = recall_score(y_val, y_pred_val,average=average_option)\n",
        "\n",
        "    beta = 1  # You can adjust the value of beta\n",
        "    f_beta = (1 + beta**2) * (precision * recall) / (beta**2 * (precision + recall))\n",
        "\n",
        "    results.append({\n",
        "        'C_value': C_value,\n",
        "        'Error Rate': error_rate,\n",
        "        'Precision': precision,\n",
        "        'Recall': recall,\n",
        "        'F1': f_beta })\n",
        "print(\"model III\")\n",
        "results_df = pd.DataFrame(results)\n",
        "print(results_df)"
      ]
    },
    {
      "cell_type": "markdown",
      "metadata": {
        "id": "6u2NP6WECe9P"
      },
      "source": [
        "model III got perfect results on validation data with all C values"
      ]
    },
    {
      "cell_type": "markdown",
      "metadata": {
        "id": "dCxDIKXtCwl6"
      },
      "source": [
        "#### Finally, we train the model IV (sigmoid)\n"
      ]
    },
    {
      "cell_type": "code",
      "execution_count": 147,
      "metadata": {
        "colab": {
          "base_uri": "https://localhost:8080/"
        },
        "id": "YGPsF-6fC57L",
        "outputId": "76ed6d99-39aa-4214-b741-7ea8b6647595"
      },
      "outputs": [
        {
          "name": "stdout",
          "output_type": "stream",
          "text": [
            "model IV\n",
            "For C = 0.1:\n",
            "  (a) Error rate: 1.25%\n",
            "  (b) Precision: 0.99\n",
            "  (b)  Recall: 0.99\n",
            "  (c) Number of Support Vectors for Class 0: 69\n",
            "  (c) Number of Support Vectors for Class 1: 69\n",
            "For C = 1:\n",
            "  (a) Error rate: 0.94%\n",
            "  (b) Precision: 0.99\n",
            "  (b)  Recall: 0.99\n",
            "  (c) Number of Support Vectors for Class 0: 22\n",
            "  (c) Number of Support Vectors for Class 1: 25\n",
            "For C = 10:\n",
            "  (a) Error rate: 3.44%\n",
            "  (b) Precision: 0.97\n",
            "  (b)  Recall: 0.97\n",
            "  (c) Number of Support Vectors for Class 0: 8\n",
            "  (c) Number of Support Vectors for Class 1: 11\n",
            "For C = 100:\n",
            "  (a) Error rate: 3.75%\n",
            "  (b) Precision: 0.96\n",
            "  (b)  Recall: 0.96\n",
            "  (c) Number of Support Vectors for Class 0: 8\n",
            "  (c) Number of Support Vectors for Class 1: 11\n"
          ]
        }
      ],
      "source": [
        "print(\"model IV\")\n",
        "C_values = [0.1, 1, 10, 100]\n",
        "average_option = 'micro'\n",
        "# Train and evaluate SVM models for different C values\n",
        "for C_value in C_values:\n",
        "    # Create and train the SVM model\n",
        "    model = svm.SVC(kernel='sigmoid', C=C_value)  # kernel=\"sigmoid\" is the model IV\n",
        "    model.fit(X_train, y_train)\n",
        "\n",
        "    # Make predictions on the training set\n",
        "    y_pred_train = model.predict(X_train)\n",
        "\n",
        "    # Calculate accuracy on the training set\n",
        "    error_rate = 1 - accuracy_score(y_train, y_pred_train)\n",
        "\n",
        "    # (b) Precision and recall\n",
        "    precision = precision_score(y_train, y_pred_train,average=average_option)\n",
        "    recall = recall_score(y_train, y_pred_train,average=average_option)\n",
        "\n",
        "    n_support_vectors = model.n_support_\n",
        "\n",
        "    print(f\"For C = {C_value}:\")\n",
        "\n",
        "    print(f\"  (a) Error rate: {error_rate:.2%}\")\n",
        "    print(f\"  (b) Precision: {precision:.2f}\")\n",
        "    print(f\"  (b)  Recall: {recall:.2f}\")\n",
        "    print(f\"  (c) Number of Support Vectors for Class 0: {n_support_vectors[0]}\")\n",
        "    print(f\"  (c) Number of Support Vectors for Class 1: {n_support_vectors[1]}\")"
      ]
    },
    {
      "cell_type": "markdown",
      "metadata": {
        "id": "HOgA_ELpDHX9"
      },
      "source": [
        "The model IV got a little error rates for every C value on training data. Now let's check the results in validation data"
      ]
    },
    {
      "cell_type": "code",
      "execution_count": 148,
      "metadata": {
        "colab": {
          "base_uri": "https://localhost:8080/"
        },
        "id": "6tfnSO_7DSoR",
        "outputId": "4aad8a10-32a2-4921-b457-c1ce30f67e9b"
      },
      "outputs": [
        {
          "name": "stdout",
          "output_type": "stream",
          "text": [
            "model IV\n",
            "   C_value  Error Rate  Precision  Recall   F1\n",
            "0      0.1         0.0        1.0     1.0  1.0\n",
            "1      1.0         0.0        1.0     1.0  1.0\n",
            "2     10.0         0.0        1.0     1.0  1.0\n",
            "3    100.0         0.0        1.0     1.0  1.0\n"
          ]
        }
      ],
      "source": [
        "C_values = [0.1, 1, 10, 100]\n",
        "results = []\n",
        "\n",
        "for C_value in C_values:\n",
        "    # Create and train the SVM model\n",
        "    model = svm.SVC(kernel='sigmoid', C=C_value)\n",
        "    model.fit(X_train, y_train)\n",
        "\n",
        "    y_pred_val = model.predict(X_val)\n",
        "\n",
        "    error_rate = 1 - accuracy_score(y_val, y_pred_val)\n",
        "\n",
        "    precision = precision_score(y_val, y_pred_val,average=average_option)\n",
        "    recall = recall_score(y_val, y_pred_val,average=average_option)\n",
        "\n",
        "    beta = 1  # You can adjust the value of beta\n",
        "    f_beta = (1 + beta**2) * (precision * recall) / (beta**2 * (precision + recall))\n",
        "\n",
        "    results.append({\n",
        "        'C_value': C_value,\n",
        "        'Error Rate': error_rate,\n",
        "        'Precision': precision,\n",
        "        'Recall': recall,\n",
        "        'F1': f_beta })\n",
        "print(\"model IV\")\n",
        "results_df = pd.DataFrame(results)\n",
        "print(results_df)"
      ]
    },
    {
      "cell_type": "markdown",
      "metadata": {
        "id": "ApHVgNYVDanV"
      },
      "source": [
        "However, the model IV got perfect results on validation data"
      ]
    },
    {
      "cell_type": "markdown",
      "metadata": {
        "id": "99cCC1eKDuyj"
      },
      "source": [
        "So, all C values and all model got perfect results on validation data, excepy c=0.1. So, C = 1,10,100 got same results. So, I choose C = 10 for evalution of test data"
      ]
    },
    {
      "cell_type": "markdown",
      "metadata": {
        "id": "mGhJMUfqEf7O"
      },
      "source": [
        "#### Estimations on test data"
      ]
    },
    {
      "cell_type": "code",
      "execution_count": 149,
      "metadata": {
        "colab": {
          "base_uri": "https://localhost:8080/"
        },
        "id": "-EWkO9o6ENUV",
        "outputId": "77b9d505-6cff-415a-827b-724cac1807f8"
      },
      "outputs": [
        {
          "name": "stdout",
          "output_type": "stream",
          "text": [
            "    model  C_value  Error Rate  Precision  Recall    F1\n",
            "0  model1       10        0.00       1.00    1.00  1.00\n",
            "1  model2       10        0.00       1.00    1.00  1.00\n",
            "2  model3       10        0.00       1.00    1.00  1.00\n",
            "3  model4       10        0.05       0.95    0.95  0.95\n"
          ]
        }
      ],
      "source": [
        "C = 10\n",
        "result = []\n",
        "models = ['linear', 'poly', 'rbf', 'sigmoid']\n",
        "i = 0\n",
        "for kernel in models:\n",
        "    # Create and train the SVM model\n",
        "    model = svm.SVC(kernel=kernel, C=C)\n",
        "    model.fit(X_train, y_train)\n",
        "\n",
        "    y_pred_test = model.predict(X_test)\n",
        "\n",
        "    error_rate = 1 - accuracy_score(y_test,y_pred_test)\n",
        "\n",
        "    precision = precision_score(y_test, y_pred_test,average=average_option)\n",
        "    recall = recall_score(y_test, y_pred_test,average=average_option)\n",
        "\n",
        "    beta = 1  # You can adjust the value of beta\n",
        "    f_beta = (1 + beta**2) * (precision * recall) / (beta**2 * (precision + recall))\n",
        "    i += 1\n",
        "    result.append({\n",
        "        \"model\": \"model\"+str(i),\n",
        "        'C_value': C,\n",
        "        'Error Rate': error_rate,\n",
        "        'Precision': precision,\n",
        "        'Recall': recall,\n",
        "        'F1': f_beta })\n",
        "\n",
        "result_df = pd.DataFrame(result)\n",
        "print(result_df)"
      ]
    },
    {
      "cell_type": "markdown",
      "metadata": {
        "id": "lZtQlThqHn0s"
      },
      "source": [
        "So, according to the test data results, model I, model II and model III are best, as they have perfect results on test data. model IV has slightly worse results.\n",
        "Now I need choose one model from 3. As all of them got perfect results, I will choose the one which is simplier. The model I, is uses less amount of support vectors for each class 14 and 6. While model II uses 27 77 support vectors and model III uses 15 36 support vectors. So model I is simplier.\n",
        "\n",
        "I choose the model I, kernel = linear C = 10"
      ]
    }
  ],
  "metadata": {
    "colab": {
      "provenance": []
    },
    "kernelspec": {
      "display_name": "Python 3",
      "name": "python3"
    },
    "language_info": {
      "name": "python"
    }
  },
  "nbformat": 4,
  "nbformat_minor": 0
}
